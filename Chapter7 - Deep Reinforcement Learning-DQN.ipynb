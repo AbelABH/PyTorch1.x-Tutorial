{
 "cells": [
  {
   "cell_type": "code",
   "execution_count": 1,
   "metadata": {},
   "outputs": [],
   "source": [
    "import torch\n",
    "import torch.nn as nn\n",
    "import random\n",
    "from collections import deque\n",
    "import numpy as np\n",
    "import torch.optim as optim\n",
    "import gym"
   ]
  },
  {
   "cell_type": "code",
   "execution_count": 2,
   "metadata": {},
   "outputs": [],
   "source": [
    "def cartpole_model(observation_space, action_space):\n",
    "    return nn.Sequential(\n",
    "        nn.Linear(observation_space, 24),\n",
    "        nn.ReLU(),\n",
    "        nn.Linear(24, 24),\n",
    "        nn.ReLU(),\n",
    "        nn.Linear(24, action_space)\n",
    "    )"
   ]
  },
  {
   "cell_type": "code",
   "execution_count": 3,
   "metadata": {},
   "outputs": [],
   "source": [
    "class DQN:\n",
    "    def __init__(self, observation_space, action_space):\n",
    "        self.exploration_rate = MAX_EXPLORE\n",
    "        self.action_space = action_space\n",
    "        self.observation_space = observation_space\n",
    "        self.memory = deque(maxlen=MEMORY_LEN)\n",
    "        \n",
    "        self.target_net = cartpole_model(self.observation_space, self.action_space)\n",
    "        self.policy_net = cartpole_model(self.observation_space, self.action_space)\n",
    "        \n",
    "        self.target_net.load_state_dict(self.policy_net.state_dict())\n",
    "        self.target_net.eval()\n",
    "        \n",
    "        self.criterion = nn.MSELoss()\n",
    "        self.optimizer = optim.Adam(self.policy_net.parameters())\n",
    "        \n",
    "        self.explore_limit = False\n",
    "        \n",
    "    def load_memory(self, state, action, reward, next_state, terminal):\n",
    "        self.memory.append((state, action, reward, next_state, terminal))\n",
    "        \n",
    "    def predict_action(self, state):\n",
    "        random_number = np.random.rand()\n",
    "        \n",
    "        if random_number < self.exploration_rate:\n",
    "            return random.randrange(self.action_space)\n",
    "        \n",
    "        q_values = self.target_net(state).detach().numpy()\n",
    "        return np.argmax(q_values[0])\n",
    "    \n",
    "    def experience_replay(self):\n",
    "        if len(self.memory) < BATCH_SIZE:\n",
    "            return\n",
    "        \n",
    "        for state, action, reward, next_state, terminal in batch:\n",
    "            q_update = reward\n",
    "            \n",
    "            if not terminal:\n",
    "                    q_update = reward + GAMMA * self.target_net(next_state).max(axis=1)[0]\n",
    "                    \n",
    "            q_values = self.target_net(state)\n",
    "            q_values[0][action] = q_update\n",
    "            \n",
    "            loss = self.criterion(self.policy_net(state), q_values)\n",
    "            self.optimizer.zero_grad()\n",
    "            loss.backward()\n",
    "            self.optimizer.step()\n",
    "            \n",
    "            if not self.explore_limit:\n",
    "                self.exploration_rate *= EXPLORE_DECAY\n",
    "                if self.exploration_rate < MIN_EXPLORE:\n",
    "                    self.exploration_rate = MIN_EXPLORE\n",
    "                    self.explore_limit = True"
   ]
  },
  {
   "cell_type": "code",
   "execution_count": 4,
   "metadata": {},
   "outputs": [],
   "source": [
    "ENV_NAME = \"CartPole-v1\"\n",
    "BATCH_SIZE = 20\n",
    "GAMMA = 0.95\n",
    "LEARNING_RATE = 0.001\n",
    "MAX_EXPLORE = 1.0\n",
    "MIN_EXPLORE = 0.01\n",
    "EXPLORE_DECAY = 0.995\n",
    "MEMORY_LEN = 1_000_000\n",
    "UPDATE_FREQ = 10"
   ]
  },
  {
   "cell_type": "code",
   "execution_count": 5,
   "metadata": {},
   "outputs": [],
   "source": [
    "env = gym.make(ENV_NAME)\n",
    "observation_space = env.observation_space.shape[0]\n",
    "action_space = env.action_space.n\n",
    "dqn = DQN(observation_space, action_space)"
   ]
  },
  {
   "cell_type": "code",
   "execution_count": 29,
   "metadata": {},
   "outputs": [
    {
     "name": "stdout",
     "output_type": "stream",
     "text": [
      "| Run  | Exploration Rate | Score |\n"
     ]
    },
    {
     "ename": "NameError",
     "evalue": "name 'batch' is not defined",
     "output_type": "error",
     "traceback": [
      "\u001b[0;31m---------------------------------------------------------------------------\u001b[0m",
      "\u001b[0;31mNameError\u001b[0m                                 Traceback (most recent call last)",
      "\u001b[0;32m<ipython-input-29-0481cfcd8347>\u001b[0m in \u001b[0;36m<module>\u001b[0;34m()\u001b[0m\n\u001b[1;32m     19\u001b[0m             \u001b[0;32mbreak\u001b[0m\u001b[0;34m\u001b[0m\u001b[0;34m\u001b[0m\u001b[0m\n\u001b[1;32m     20\u001b[0m \u001b[0;34m\u001b[0m\u001b[0m\n\u001b[0;32m---> 21\u001b[0;31m         \u001b[0mdqn\u001b[0m\u001b[0;34m.\u001b[0m\u001b[0mexperience_replay\u001b[0m\u001b[0;34m(\u001b[0m\u001b[0;34m)\u001b[0m\u001b[0;34m\u001b[0m\u001b[0;34m\u001b[0m\u001b[0m\n\u001b[0m\u001b[1;32m     22\u001b[0m     \u001b[0;32mif\u001b[0m \u001b[0mi\u001b[0m\u001b[0;34m%\u001b[0m\u001b[0mUPDATE_FREQ\u001b[0m \u001b[0;34m==\u001b[0m \u001b[0;36m0\u001b[0m\u001b[0;34m:\u001b[0m\u001b[0;34m\u001b[0m\u001b[0;34m\u001b[0m\u001b[0m\n\u001b[1;32m     23\u001b[0m         \u001b[0mdqn\u001b[0m\u001b[0;34m.\u001b[0m\u001b[0mtarget_net\u001b[0m\u001b[0;34m.\u001b[0m\u001b[0mload_state_dict\u001b[0m\u001b[0;34m(\u001b[0m\u001b[0mdqn\u001b[0m\u001b[0;34m.\u001b[0m\u001b[0mpolicy_net\u001b[0m\u001b[0;34m.\u001b[0m\u001b[0mstate_dict\u001b[0m\u001b[0;34m(\u001b[0m\u001b[0;34m)\u001b[0m\u001b[0;34m)\u001b[0m\u001b[0;34m\u001b[0m\u001b[0;34m\u001b[0m\u001b[0m\n",
      "\u001b[0;32m<ipython-input-3-52d13a27dee5>\u001b[0m in \u001b[0;36mexperience_replay\u001b[0;34m(self)\u001b[0m\n\u001b[1;32m     33\u001b[0m             \u001b[0;32mreturn\u001b[0m\u001b[0;34m\u001b[0m\u001b[0;34m\u001b[0m\u001b[0m\n\u001b[1;32m     34\u001b[0m \u001b[0;34m\u001b[0m\u001b[0m\n\u001b[0;32m---> 35\u001b[0;31m         \u001b[0;32mfor\u001b[0m \u001b[0mstate\u001b[0m\u001b[0;34m,\u001b[0m \u001b[0maction\u001b[0m\u001b[0;34m,\u001b[0m \u001b[0mreward\u001b[0m\u001b[0;34m,\u001b[0m \u001b[0mnext_state\u001b[0m\u001b[0;34m,\u001b[0m \u001b[0mterminal\u001b[0m \u001b[0;32min\u001b[0m \u001b[0mbatch\u001b[0m\u001b[0;34m:\u001b[0m\u001b[0;34m\u001b[0m\u001b[0;34m\u001b[0m\u001b[0m\n\u001b[0m\u001b[1;32m     36\u001b[0m             \u001b[0mq_update\u001b[0m \u001b[0;34m=\u001b[0m \u001b[0mreward\u001b[0m\u001b[0;34m\u001b[0m\u001b[0;34m\u001b[0m\u001b[0m\n\u001b[1;32m     37\u001b[0m \u001b[0;34m\u001b[0m\u001b[0m\n",
      "\u001b[0;31mNameError\u001b[0m: name 'batch' is not defined"
     ]
    }
   ],
   "source": [
    "print(f'| Run  | Exploration Rate | Score |')\n",
    "for i in range(51):\n",
    "    state = env.reset()\n",
    "    state = np.reshape(state, [1, observation_space])\n",
    "    state = torch.from_numpy(state).float()\n",
    "    \n",
    "    score = 0\n",
    "    while True:\n",
    "        score += 1\n",
    "        action = dqn.predict_action(state)\n",
    "        next_state, reward, terminal, info = env.step(action)\n",
    "        \n",
    "        next_state = torch.from_numpy(np.reshape(next_state, [1, observation_space])).float()\n",
    "        dqn.load_memory(state, action, reward, next_state, terminal)\n",
    "        state = next_state\n",
    "        \n",
    "        if terminal:\n",
    "            print(f'|  {i+1:02}  |       {dqn.exploration_rate:.4f}     | {score:03}   |')\n",
    "            break\n",
    "        \n",
    "        dqn.experience_replay()\n",
    "    if i%UPDATE_FREQ == 0:\n",
    "        dqn.target_net.load_state_dict(dqn.policy_net.state_dict())"
   ]
  },
  {
   "cell_type": "code",
   "execution_count": null,
   "metadata": {},
   "outputs": [],
   "source": []
  }
 ],
 "metadata": {
  "kernelspec": {
   "display_name": "Python 3",
   "language": "python",
   "name": "python3"
  },
  "language_info": {
   "codemirror_mode": {
    "name": "ipython",
    "version": 3
   },
   "file_extension": ".py",
   "mimetype": "text/x-python",
   "name": "python",
   "nbconvert_exporter": "python",
   "pygments_lexer": "ipython3",
   "version": "3.6.8"
  }
 },
 "nbformat": 4,
 "nbformat_minor": 2
}
