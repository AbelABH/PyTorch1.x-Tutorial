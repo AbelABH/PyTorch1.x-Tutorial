{
 "cells": [
  {
   "cell_type": "code",
   "execution_count": 1,
   "metadata": {},
   "outputs": [],
   "source": [
    "import torch\n",
    "import torch.nn as nn"
   ]
  },
  {
   "cell_type": "code",
   "execution_count": 2,
   "metadata": {},
   "outputs": [
    {
     "data": {
      "text/plain": [
       "Conv2d(3, 16, kernel_size=(3, 3), stride=(1, 1), padding=(1, 1))"
      ]
     },
     "execution_count": 2,
     "metadata": {},
     "output_type": "execute_result"
    }
   ],
   "source": [
    "nn.Conv2d(3, 16, 3, padding=1)"
   ]
  },
  {
   "cell_type": "code",
   "execution_count": 3,
   "metadata": {},
   "outputs": [
    {
     "data": {
      "text/plain": [
       "Conv2d(3, 16, kernel_size=(3, 3), stride=(2, 2), padding=(1, 2))"
      ]
     },
     "execution_count": 3,
     "metadata": {},
     "output_type": "execute_result"
    }
   ],
   "source": [
    "nn.Conv2d(3, 16, 3, stride=2, padding=(1,2))"
   ]
  },
  {
   "cell_type": "code",
   "execution_count": 4,
   "metadata": {},
   "outputs": [
    {
     "data": {
      "text/plain": [
       "Conv2d(3, 16, kernel_size=(3, 4), stride=(1, 1), padding=(1, 1))"
      ]
     },
     "execution_count": 4,
     "metadata": {},
     "output_type": "execute_result"
    }
   ],
   "source": [
    "nn.Conv2d(3, 16, (3,4), padding=1)"
   ]
  },
  {
   "cell_type": "code",
   "execution_count": 5,
   "metadata": {},
   "outputs": [
    {
     "data": {
      "text/plain": [
       "Conv2d(3, 16, kernel_size=(3, 4), stride=(1, 1), padding=(1, 4))"
      ]
     },
     "execution_count": 5,
     "metadata": {},
     "output_type": "execute_result"
    }
   ],
   "source": [
    "nn.Conv2d(3, 16, (3,4), padding=(1,4))"
   ]
  },
  {
   "cell_type": "code",
   "execution_count": 6,
   "metadata": {},
   "outputs": [
    {
     "data": {
      "text/plain": [
       "Conv2d(3, 16, kernel_size=(3, 4), stride=(3, 3), padding=(1, 2))"
      ]
     },
     "execution_count": 6,
     "metadata": {},
     "output_type": "execute_result"
    }
   ],
   "source": [
    "nn.Conv2d(3, 16, (3,4), stride=(3,3), padding=(1,2))"
   ]
  },
  {
   "cell_type": "code",
   "execution_count": 7,
   "metadata": {},
   "outputs": [
    {
     "data": {
      "text/plain": [
       "Conv2d(3, 16, kernel_size=(3, 4), stride=(3, 3), padding=(1, 2))"
      ]
     },
     "execution_count": 7,
     "metadata": {},
     "output_type": "execute_result"
    }
   ],
   "source": [
    "nn.Conv2d(3, 16, (3,4), stride=3, padding=(1,2))"
   ]
  },
  {
   "cell_type": "code",
   "execution_count": 8,
   "metadata": {},
   "outputs": [],
   "source": [
    "nn.Conv2d??"
   ]
  },
  {
   "cell_type": "code",
   "execution_count": 9,
   "metadata": {},
   "outputs": [
    {
     "data": {
      "text/plain": [
       "Conv2d(3, 16, kernel_size=(3, 3), stride=(1, 1))"
      ]
     },
     "execution_count": 9,
     "metadata": {},
     "output_type": "execute_result"
    }
   ],
   "source": [
    "nn.Conv2d(3, 16, 3)"
   ]
  },
  {
   "cell_type": "code",
   "execution_count": 10,
   "metadata": {},
   "outputs": [
    {
     "data": {
      "text/plain": [
       "Conv2d(3, 16, kernel_size=(3, 3), stride=(2, 2))"
      ]
     },
     "execution_count": 10,
     "metadata": {},
     "output_type": "execute_result"
    }
   ],
   "source": [
    "nn.Conv2d(3, 16, 3, stride=2)"
   ]
  },
  {
   "cell_type": "code",
   "execution_count": 11,
   "metadata": {},
   "outputs": [],
   "source": [
    "max_pool = nn.MaxPool2d(3, stride=1)"
   ]
  },
  {
   "cell_type": "code",
   "execution_count": 12,
   "metadata": {},
   "outputs": [],
   "source": [
    "a = torch.FloatTensor(3,5,5).random_(0, 10)"
   ]
  },
  {
   "cell_type": "code",
   "execution_count": 13,
   "metadata": {},
   "outputs": [
    {
     "data": {
      "text/plain": [
       "tensor([[[0., 2., 0., 8., 8.],\n",
       "         [0., 2., 4., 2., 4.],\n",
       "         [9., 4., 3., 8., 2.],\n",
       "         [8., 7., 9., 8., 8.],\n",
       "         [5., 3., 9., 3., 2.]],\n",
       "\n",
       "        [[6., 6., 8., 2., 6.],\n",
       "         [5., 6., 6., 9., 1.],\n",
       "         [4., 5., 0., 8., 4.],\n",
       "         [3., 3., 9., 5., 1.],\n",
       "         [8., 4., 8., 4., 1.]],\n",
       "\n",
       "        [[2., 4., 2., 9., 3.],\n",
       "         [5., 2., 0., 4., 4.],\n",
       "         [1., 1., 3., 2., 0.],\n",
       "         [3., 2., 1., 5., 0.],\n",
       "         [4., 2., 8., 7., 2.]]])"
      ]
     },
     "execution_count": 13,
     "metadata": {},
     "output_type": "execute_result"
    }
   ],
   "source": [
    "a"
   ]
  },
  {
   "cell_type": "code",
   "execution_count": 14,
   "metadata": {},
   "outputs": [
    {
     "data": {
      "text/plain": [
       "tensor([[[9., 8., 8.],\n",
       "         [9., 9., 9.],\n",
       "         [9., 9., 9.]],\n",
       "\n",
       "        [[8., 9., 9.],\n",
       "         [9., 9., 9.],\n",
       "         [9., 9., 9.]],\n",
       "\n",
       "        [[5., 9., 9.],\n",
       "         [5., 5., 5.],\n",
       "         [8., 8., 8.]]])"
      ]
     },
     "execution_count": 14,
     "metadata": {},
     "output_type": "execute_result"
    }
   ],
   "source": [
    "max_pool(a)"
   ]
  },
  {
   "cell_type": "code",
   "execution_count": 15,
   "metadata": {},
   "outputs": [],
   "source": [
    "avg_pool = nn.AvgPool2d(3, stride=1)"
   ]
  },
  {
   "cell_type": "code",
   "execution_count": 16,
   "metadata": {},
   "outputs": [
    {
     "data": {
      "text/plain": [
       "tensor([[[2.6667, 3.6667, 4.3333],\n",
       "         [5.1111, 5.2222, 5.3333],\n",
       "         [6.3333, 6.0000, 5.7778]],\n",
       "\n",
       "        [[5.1111, 5.5556, 4.8889],\n",
       "         [4.5556, 5.6667, 4.7778],\n",
       "         [4.8889, 5.1111, 4.4444]],\n",
       "\n",
       "        [[2.2222, 3.0000, 3.0000],\n",
       "         [2.0000, 2.2222, 2.1111],\n",
       "         [2.7778, 3.4444, 3.1111]]])"
      ]
     },
     "execution_count": 16,
     "metadata": {},
     "output_type": "execute_result"
    }
   ],
   "source": [
    "avg_pool(a)"
   ]
  },
  {
   "cell_type": "code",
   "execution_count": 1,
   "metadata": {},
   "outputs": [
    {
     "name": "stderr",
     "output_type": "stream",
     "text": [
      "/home/jibin/.local/lib/python3.6/site-packages/requests/__init__.py:91: RequestsDependencyWarning: urllib3 (1.25.3) or chardet (3.0.4) doesn't match a supported version!\n",
      "  RequestsDependencyWarning)\n"
     ]
    }
   ],
   "source": [
    "from torchvision import datasets"
   ]
  },
  {
   "cell_type": "code",
   "execution_count": 7,
   "metadata": {},
   "outputs": [],
   "source": [
    "from torchvision import transforms"
   ]
  },
  {
   "cell_type": "code",
   "execution_count": 2,
   "metadata": {},
   "outputs": [
    {
     "data": {
      "text/plain": [
       "ToTensor()"
      ]
     },
     "execution_count": 2,
     "metadata": {},
     "output_type": "execute_result"
    }
   ],
   "source": [
    "transforms.ToTensor()"
   ]
  },
  {
   "cell_type": "code",
   "execution_count": 3,
   "metadata": {},
   "outputs": [
    {
     "data": {
      "text/plain": [
       "Resize(size=1, interpolation=PIL.Image.BILINEAR)"
      ]
     },
     "execution_count": 3,
     "metadata": {},
     "output_type": "execute_result"
    }
   ],
   "source": [
    "transforms.Resize(1)"
   ]
  },
  {
   "cell_type": "code",
   "execution_count": 4,
   "metadata": {},
   "outputs": [
    {
     "data": {
      "text/plain": [
       "Resize(size=(1, 1), interpolation=PIL.Image.BILINEAR)"
      ]
     },
     "execution_count": 4,
     "metadata": {},
     "output_type": "execute_result"
    }
   ],
   "source": [
    "transforms.Resize((1,1))"
   ]
  },
  {
   "cell_type": "code",
   "execution_count": 5,
   "metadata": {},
   "outputs": [
    {
     "data": {
      "text/plain": [
       "Pad(padding=1, fill=0, padding_mode=constant)"
      ]
     },
     "execution_count": 5,
     "metadata": {},
     "output_type": "execute_result"
    }
   ],
   "source": [
    "transforms.Pad(1, 0)"
   ]
  },
  {
   "cell_type": "code",
   "execution_count": 6,
   "metadata": {},
   "outputs": [
    {
     "data": {
      "text/plain": [
       "Pad(padding=(1, 2), fill=1, padding_mode=constant)"
      ]
     },
     "execution_count": 6,
     "metadata": {},
     "output_type": "execute_result"
    }
   ],
   "source": [
    "transforms.Pad((1, 2), 1)"
   ]
  },
  {
   "cell_type": "code",
   "execution_count": 7,
   "metadata": {},
   "outputs": [
    {
     "data": {
      "text/plain": [
       "Pad(padding=(1, 2, 2, 3), fill=0, padding_mode=reflect)"
      ]
     },
     "execution_count": 7,
     "metadata": {},
     "output_type": "execute_result"
    }
   ],
   "source": [
    "transforms.Pad((1, 2, 2, 3), padding_mode='reflect')"
   ]
  },
  {
   "cell_type": "code",
   "execution_count": 8,
   "metadata": {},
   "outputs": [
    {
     "data": {
      "text/plain": [
       "Normalize(mean=(0.5,), std=(0.5,))"
      ]
     },
     "execution_count": 8,
     "metadata": {},
     "output_type": "execute_result"
    }
   ],
   "source": [
    "transforms.Normalize((0.5,),(0.5,))"
   ]
  },
  {
   "cell_type": "code",
   "execution_count": 9,
   "metadata": {},
   "outputs": [
    {
     "data": {
      "text/plain": [
       "Compose(\n",
       "    CenterCrop(size=(10, 10))\n",
       "    ToTensor()\n",
       ")"
      ]
     },
     "execution_count": 9,
     "metadata": {},
     "output_type": "execute_result"
    }
   ],
   "source": [
    "transforms.Compose([\n",
    "     transforms.CenterCrop(10),\n",
    "     transforms.ToTensor(),\n",
    "])"
   ]
  },
  {
   "cell_type": "code",
   "execution_count": 10,
   "metadata": {},
   "outputs": [
    {
     "data": {
      "text/plain": [
       "CenterCrop(size=(10, 10))"
      ]
     },
     "execution_count": 10,
     "metadata": {},
     "output_type": "execute_result"
    }
   ],
   "source": [
    "transforms.CenterCrop(10)"
   ]
  },
  {
   "cell_type": "code",
   "execution_count": 13,
   "metadata": {},
   "outputs": [
    {
     "data": {
      "text/plain": [
       "RandomCrop(size=(10, 10), padding=None)"
      ]
     },
     "execution_count": 13,
     "metadata": {},
     "output_type": "execute_result"
    }
   ],
   "source": [
    "transforms.RandomCrop(10)"
   ]
  },
  {
   "cell_type": "code",
   "execution_count": 14,
   "metadata": {},
   "outputs": [
    {
     "data": {
      "text/plain": [
       "RandomCrop(size=(10, 20), padding=None)"
      ]
     },
     "execution_count": 14,
     "metadata": {},
     "output_type": "execute_result"
    }
   ],
   "source": [
    "transforms.RandomCrop((10, 20))"
   ]
  },
  {
   "cell_type": "code",
   "execution_count": 16,
   "metadata": {},
   "outputs": [
    {
     "data": {
      "text/plain": [
       "RandomHorizontalFlip(p=0.3)"
      ]
     },
     "execution_count": 16,
     "metadata": {},
     "output_type": "execute_result"
    }
   ],
   "source": [
    "transforms.RandomHorizontalFlip(p=0.3)"
   ]
  },
  {
   "cell_type": "code",
   "execution_count": 17,
   "metadata": {},
   "outputs": [
    {
     "data": {
      "text/plain": [
       "RandomVerticalFlip(p=0.3)"
      ]
     },
     "execution_count": 17,
     "metadata": {},
     "output_type": "execute_result"
    }
   ],
   "source": [
    "transforms.RandomVerticalFlip(p=0.3)"
   ]
  },
  {
   "cell_type": "code",
   "execution_count": 19,
   "metadata": {},
   "outputs": [
    {
     "data": {
      "text/plain": [
       "ColorJitter(brightness=[0.75, 1.25], contrast=[0.75, 1.25], saturation=[0.75, 1.25], hue=[-0.25, 0.25])"
      ]
     },
     "execution_count": 19,
     "metadata": {},
     "output_type": "execute_result"
    }
   ],
   "source": [
    "transforms.ColorJitter(0.25, 0.25, 0.25, 0.25)"
   ]
  },
  {
   "cell_type": "code",
   "execution_count": 20,
   "metadata": {},
   "outputs": [
    {
     "data": {
      "text/plain": [
       "RandomRotation(degrees=(-10, 10), resample=False, expand=False)"
      ]
     },
     "execution_count": 20,
     "metadata": {},
     "output_type": "execute_result"
    }
   ],
   "source": [
    "transforms.RandomRotation(10)"
   ]
  },
  {
   "cell_type": "code",
   "execution_count": 21,
   "metadata": {},
   "outputs": [
    {
     "data": {
      "text/plain": [
       "Compose(\n",
       "    RandomRotation(degrees=(-10, 10), resample=False, expand=False)\n",
       "    ToTensor()\n",
       ")"
      ]
     },
     "execution_count": 21,
     "metadata": {},
     "output_type": "execute_result"
    }
   ],
   "source": [
    "transforms.Compose([\n",
    "     transforms.RandomRotation(10),\n",
    "     transforms.ToTensor(),\n",
    "])"
   ]
  },
  {
   "cell_type": "code",
   "execution_count": 8,
   "metadata": {},
   "outputs": [],
   "source": [
    "transformations = transforms.Compose([\n",
    "    transforms.RandomHorizontalFlip(),\n",
    "    transforms.RandomRotation(20),\n",
    "    transforms.ToTensor(),\n",
    "    transforms.Normalize((0.5, 0.5, 0.5),(0.5, 0.5, 0.5))\n",
    "])"
   ]
  },
  {
   "cell_type": "code",
   "execution_count": 4,
   "metadata": {},
   "outputs": [],
   "source": [
    "??datasets.CIFAR10"
   ]
  },
  {
   "cell_type": "code",
   "execution_count": 9,
   "metadata": {},
   "outputs": [
    {
     "name": "stderr",
     "output_type": "stream",
     "text": [
      "\r",
      "0it [00:00, ?it/s]"
     ]
    },
    {
     "name": "stdout",
     "output_type": "stream",
     "text": [
      "Downloading https://www.cs.toronto.edu/~kriz/cifar-10-python.tar.gz to CIFAR10/cifar-10-python.tar.gz\n"
     ]
    },
    {
     "name": "stderr",
     "output_type": "stream",
     "text": [
      "170500096it [07:30, 56372.66it/s]                                "
     ]
    }
   ],
   "source": [
    "train_data = datasets.CIFAR10('CIFAR10', train=True, download=True, transform=transformations)"
   ]
  },
  {
   "cell_type": "code",
   "execution_count": 10,
   "metadata": {},
   "outputs": [
    {
     "name": "stdout",
     "output_type": "stream",
     "text": [
      "Files already downloaded and verified\n"
     ]
    }
   ],
   "source": [
    "test_data = datasets.CIFAR10('CIFAR10', train=False, download=True, transform=transformations)"
   ]
  },
  {
   "cell_type": "code",
   "execution_count": 13,
   "metadata": {},
   "outputs": [
    {
     "data": {
      "text/plain": [
       "(50000, 10000)"
      ]
     },
     "execution_count": 13,
     "metadata": {},
     "output_type": "execute_result"
    }
   ],
   "source": [
    "len(train_data), len(test_data)"
   ]
  },
  {
   "cell_type": "code",
   "execution_count": 14,
   "metadata": {},
   "outputs": [],
   "source": [
    "from torch.utils.data.sampler import SubsetRandomSampler"
   ]
  },
  {
   "cell_type": "code",
   "execution_count": 15,
   "metadata": {},
   "outputs": [],
   "source": [
    "validation_size = 0.2"
   ]
  },
  {
   "cell_type": "code",
   "execution_count": 16,
   "metadata": {},
   "outputs": [],
   "source": [
    "import numpy as np"
   ]
  },
  {
   "cell_type": "code",
   "execution_count": 17,
   "metadata": {},
   "outputs": [],
   "source": [
    "training_size = len(train_data)"
   ]
  },
  {
   "cell_type": "code",
   "execution_count": 18,
   "metadata": {},
   "outputs": [],
   "source": [
    "indices = list(range(training_size))"
   ]
  },
  {
   "cell_type": "code",
   "execution_count": 19,
   "metadata": {},
   "outputs": [],
   "source": [
    "np.random.shuffle(indices)"
   ]
  },
  {
   "cell_type": "code",
   "execution_count": 20,
   "metadata": {},
   "outputs": [],
   "source": [
    "index_split = int(np.floor(training_size * validation_size))"
   ]
  },
  {
   "cell_type": "code",
   "execution_count": 23,
   "metadata": {},
   "outputs": [],
   "source": [
    "validation_indices, training_indices = indices[:index_split], indices[index_split:]"
   ]
  },
  {
   "cell_type": "code",
   "execution_count": 24,
   "metadata": {},
   "outputs": [
    {
     "data": {
      "text/plain": [
       "[22342,\n",
       " 44929,\n",
       " 5618,\n",
       " 29275,\n",
       " 19503,\n",
       " 5418,\n",
       " 17119,\n",
       " 38970,\n",
       " 47723,\n",
       " 5531,\n",
       " 895,\n",
       " 35939,\n",
       " 4789,\n",
       " 42341,\n",
       " 34732,\n",
       " 29504,\n",
       " 33055,\n",
       " 28547,\n",
       " 26300,\n",
       " 47959,\n",
       " 35823,\n",
       " 7611,\n",
       " 11246,\n",
       " 23231,\n",
       " 1881,\n",
       " 7241,\n",
       " 30281,\n",
       " 43476,\n",
       " 41029,\n",
       " 34342,\n",
       " 34327,\n",
       " 7107,\n",
       " 38593,\n",
       " 8863,\n",
       " 42657,\n",
       " 36555,\n",
       " 47578,\n",
       " 15363,\n",
       " 31068,\n",
       " 33551,\n",
       " 41070,\n",
       " 40885,\n",
       " 21807,\n",
       " 36070,\n",
       " 17382,\n",
       " 42418,\n",
       " 23406,\n",
       " 44213,\n",
       " 40308,\n",
       " 17293,\n",
       " 2830,\n",
       " 47350,\n",
       " 48750,\n",
       " 25760,\n",
       " 30109,\n",
       " 18399,\n",
       " 11658,\n",
       " 19336,\n",
       " 10150,\n",
       " 10252,\n",
       " 43593,\n",
       " 45069,\n",
       " 49125,\n",
       " 33513,\n",
       " 40384,\n",
       " 33336,\n",
       " 15962,\n",
       " 10417,\n",
       " 586,\n",
       " 44253,\n",
       " 7311,\n",
       " 11513,\n",
       " 40589,\n",
       " 14037,\n",
       " 41093,\n",
       " 15707,\n",
       " 7523,\n",
       " 8867,\n",
       " 45188,\n",
       " 27952,\n",
       " 7759,\n",
       " 37439,\n",
       " 13418,\n",
       " 24158,\n",
       " 43762,\n",
       " 13138,\n",
       " 36717,\n",
       " 19611,\n",
       " 23112,\n",
       " 36936,\n",
       " 25666,\n",
       " 8238,\n",
       " 25112,\n",
       " 31091,\n",
       " 45716,\n",
       " 39313,\n",
       " 36569,\n",
       " 17364,\n",
       " 1668,\n",
       " 22922,\n",
       " 16722,\n",
       " 37755,\n",
       " 5096,\n",
       " 16514,\n",
       " 31681,\n",
       " 48473,\n",
       " 24186,\n",
       " 16975,\n",
       " 9228,\n",
       " 17369,\n",
       " 24569,\n",
       " 46670,\n",
       " 36820,\n",
       " 49885,\n",
       " 7434,\n",
       " 9037,\n",
       " 32541,\n",
       " 12018,\n",
       " 22112,\n",
       " 2122,\n",
       " 6601,\n",
       " 30975,\n",
       " 32944,\n",
       " 44244,\n",
       " 37925,\n",
       " 7669,\n",
       " 31795,\n",
       " 2665,\n",
       " 10658,\n",
       " 31586,\n",
       " 14821,\n",
       " 43231,\n",
       " 15318,\n",
       " 27723,\n",
       " 47379,\n",
       " 3843,\n",
       " 20672,\n",
       " 6897,\n",
       " 8810,\n",
       " 16977,\n",
       " 3649,\n",
       " 22334,\n",
       " 10815,\n",
       " 36008,\n",
       " 8739,\n",
       " 27419,\n",
       " 13661,\n",
       " 45272,\n",
       " 24108,\n",
       " 33068,\n",
       " 13657,\n",
       " 32868,\n",
       " 31793,\n",
       " 1665,\n",
       " 29722,\n",
       " 9526,\n",
       " 221,\n",
       " 34017,\n",
       " 34382,\n",
       " 31806,\n",
       " 14653,\n",
       " 4056,\n",
       " 3258,\n",
       " 34116,\n",
       " 26678,\n",
       " 24040,\n",
       " 36259,\n",
       " 48085,\n",
       " 44404,\n",
       " 32001,\n",
       " 10183,\n",
       " 11147,\n",
       " 23215,\n",
       " 48874,\n",
       " 7781,\n",
       " 7021,\n",
       " 30181,\n",
       " 15657,\n",
       " 46991,\n",
       " 2597,\n",
       " 34974,\n",
       " 10706,\n",
       " 17536,\n",
       " 27585,\n",
       " 5711,\n",
       " 31515,\n",
       " 38510,\n",
       " 40628,\n",
       " 33338,\n",
       " 36655,\n",
       " 38494,\n",
       " 12212,\n",
       " 23628,\n",
       " 12743,\n",
       " 46106,\n",
       " 36972,\n",
       " 8002,\n",
       " 6124,\n",
       " 20730,\n",
       " 7367,\n",
       " 34367,\n",
       " 23639,\n",
       " 42526,\n",
       " 7475,\n",
       " 22934,\n",
       " 12482,\n",
       " 34072,\n",
       " 44149,\n",
       " 24246,\n",
       " 32087,\n",
       " 3037,\n",
       " 8207,\n",
       " 35214,\n",
       " 43764,\n",
       " 18220,\n",
       " 12465,\n",
       " 47254,\n",
       " 12177,\n",
       " 14679,\n",
       " 21337,\n",
       " 18127,\n",
       " 19395,\n",
       " 27332,\n",
       " 20564,\n",
       " 37122,\n",
       " 21145,\n",
       " 46314,\n",
       " 37078,\n",
       " 49306,\n",
       " 40998,\n",
       " 19293,\n",
       " 3750,\n",
       " 672,\n",
       " 9121,\n",
       " 33819,\n",
       " 18429,\n",
       " 30037,\n",
       " 10770,\n",
       " 45795,\n",
       " 8125,\n",
       " 22184,\n",
       " 15189,\n",
       " 12045,\n",
       " 45021,\n",
       " 37004,\n",
       " 25784,\n",
       " 41323,\n",
       " 18790,\n",
       " 531,\n",
       " 34579,\n",
       " 1726,\n",
       " 14715,\n",
       " 26134,\n",
       " 14773,\n",
       " 15120,\n",
       " 165,\n",
       " 15735,\n",
       " 19847,\n",
       " 20292,\n",
       " 42734,\n",
       " 34757,\n",
       " 18504,\n",
       " 9550,\n",
       " 26415,\n",
       " 37814,\n",
       " 8723,\n",
       " 12240,\n",
       " 20608,\n",
       " 14711,\n",
       " 33431,\n",
       " 15830,\n",
       " 39797,\n",
       " 33798,\n",
       " 24192,\n",
       " 17231,\n",
       " 19426,\n",
       " 28570,\n",
       " 17798,\n",
       " 31056,\n",
       " 19715,\n",
       " 25148,\n",
       " 42027,\n",
       " 32938,\n",
       " 18349,\n",
       " 29317,\n",
       " 2874,\n",
       " 2144,\n",
       " 42122,\n",
       " 5630,\n",
       " 12082,\n",
       " 4792,\n",
       " 36595,\n",
       " 7895,\n",
       " 2185,\n",
       " 25009,\n",
       " 49280,\n",
       " 38616,\n",
       " 8543,\n",
       " 18950,\n",
       " 34302,\n",
       " 5782,\n",
       " 30171,\n",
       " 37457,\n",
       " 27385,\n",
       " 26786,\n",
       " 33955,\n",
       " 25210,\n",
       " 19007,\n",
       " 22565,\n",
       " 45657,\n",
       " 14485,\n",
       " 8369,\n",
       " 44689,\n",
       " 18701,\n",
       " 7446,\n",
       " 21041,\n",
       " 35848,\n",
       " 26718,\n",
       " 40085,\n",
       " 14885,\n",
       " 36212,\n",
       " 3805,\n",
       " 28586,\n",
       " 28553,\n",
       " 48535,\n",
       " 47532,\n",
       " 23809,\n",
       " 47830,\n",
       " 1103,\n",
       " 46980,\n",
       " 26905,\n",
       " 13679,\n",
       " 49870,\n",
       " 24986,\n",
       " 32941,\n",
       " 37823,\n",
       " 14574,\n",
       " 13699,\n",
       " 17859,\n",
       " 26236,\n",
       " 47022,\n",
       " 5489,\n",
       " 15802,\n",
       " 15027,\n",
       " 31571,\n",
       " 26781,\n",
       " 9950,\n",
       " 49742,\n",
       " 8533,\n",
       " 16588,\n",
       " 39081,\n",
       " 41905,\n",
       " 27976,\n",
       " 20011,\n",
       " 10778,\n",
       " 6653,\n",
       " 13401,\n",
       " 11614,\n",
       " 24813,\n",
       " 12291,\n",
       " 38142,\n",
       " 13057,\n",
       " 14050,\n",
       " 27823,\n",
       " 30690,\n",
       " 26581,\n",
       " 42946,\n",
       " 11319,\n",
       " 29572,\n",
       " 34864,\n",
       " 34652,\n",
       " 46361,\n",
       " 46259,\n",
       " 10431,\n",
       " 32000,\n",
       " 46561,\n",
       " 29180,\n",
       " 3643,\n",
       " 30947,\n",
       " 44006,\n",
       " 29954,\n",
       " 13144,\n",
       " 30188,\n",
       " 40612,\n",
       " 7074,\n",
       " 10764,\n",
       " 11321,\n",
       " 855,\n",
       " 42965,\n",
       " 24208,\n",
       " 31067,\n",
       " 12304,\n",
       " 16589,\n",
       " 14758,\n",
       " 45578,\n",
       " 20015,\n",
       " 41931,\n",
       " 14173,\n",
       " 5168,\n",
       " 44810,\n",
       " 48741,\n",
       " 13781,\n",
       " 44880,\n",
       " 14962,\n",
       " 2698,\n",
       " 20362,\n",
       " 31523,\n",
       " 9223,\n",
       " 21186,\n",
       " 29344,\n",
       " 32096,\n",
       " 47133,\n",
       " 28249,\n",
       " 30683,\n",
       " 30328,\n",
       " 41357,\n",
       " 35453,\n",
       " 14646,\n",
       " 17542,\n",
       " 38228,\n",
       " 28597,\n",
       " 26659,\n",
       " 4233,\n",
       " 2228,\n",
       " 26291,\n",
       " 26315,\n",
       " 44705,\n",
       " 15435,\n",
       " 24457,\n",
       " 49753,\n",
       " 16995,\n",
       " 5563,\n",
       " 3824,\n",
       " 1271,\n",
       " 46707,\n",
       " 27397,\n",
       " 7821,\n",
       " 24138,\n",
       " 13077,\n",
       " 17503,\n",
       " 4924,\n",
       " 2305,\n",
       " 12256,\n",
       " 42819,\n",
       " 7083,\n",
       " 48506,\n",
       " 37232,\n",
       " 38842,\n",
       " 16489,\n",
       " 36314,\n",
       " 7100,\n",
       " 8969,\n",
       " 26925,\n",
       " 4657,\n",
       " 2041,\n",
       " 7081,\n",
       " 17572,\n",
       " 8489,\n",
       " 23450,\n",
       " 5907,\n",
       " 13894,\n",
       " 29824,\n",
       " 19125,\n",
       " 45571,\n",
       " 1759,\n",
       " 23130,\n",
       " 38884,\n",
       " 31098,\n",
       " 49867,\n",
       " 49929,\n",
       " 30895,\n",
       " 17651,\n",
       " 34114,\n",
       " 23582,\n",
       " 33746,\n",
       " 38987,\n",
       " 41314,\n",
       " 42432,\n",
       " 4180,\n",
       " 49402,\n",
       " 21882,\n",
       " 9215,\n",
       " 22938,\n",
       " 41100,\n",
       " 10513,\n",
       " 24418,\n",
       " 34421,\n",
       " 33514,\n",
       " 21385,\n",
       " 48858,\n",
       " 18450,\n",
       " 26611,\n",
       " 14804,\n",
       " 28301,\n",
       " 32182,\n",
       " 44608,\n",
       " 24586,\n",
       " 40595,\n",
       " 16297,\n",
       " 47671,\n",
       " 0,\n",
       " 33977,\n",
       " 17931,\n",
       " 10938,\n",
       " 49134,\n",
       " 33641,\n",
       " 2279,\n",
       " 31189,\n",
       " 4763,\n",
       " 4061,\n",
       " 6246,\n",
       " 28419,\n",
       " 22982,\n",
       " 23802,\n",
       " 25685,\n",
       " 42903,\n",
       " 48992,\n",
       " 24641,\n",
       " 5979,\n",
       " 28579,\n",
       " 38867,\n",
       " 1175,\n",
       " 27542,\n",
       " 46135,\n",
       " 5594,\n",
       " 21696,\n",
       " 29845,\n",
       " 29780,\n",
       " 46999,\n",
       " 27379,\n",
       " 14444,\n",
       " 23857,\n",
       " 39567,\n",
       " 49709,\n",
       " 13983,\n",
       " 16814,\n",
       " 45761,\n",
       " 25727,\n",
       " 22266,\n",
       " 25973,\n",
       " 42780,\n",
       " 6063,\n",
       " 8801,\n",
       " 26327,\n",
       " 16255,\n",
       " 22282,\n",
       " 17977,\n",
       " 4860,\n",
       " 22240,\n",
       " 38885,\n",
       " 24376,\n",
       " 43753,\n",
       " 43262,\n",
       " 37266,\n",
       " 49746,\n",
       " 17224,\n",
       " 13385,\n",
       " 18840,\n",
       " 11308,\n",
       " 32180,\n",
       " 20511,\n",
       " 21980,\n",
       " 22137,\n",
       " 5446,\n",
       " 12277,\n",
       " 31142,\n",
       " 4989,\n",
       " 10657,\n",
       " 25031,\n",
       " 8861,\n",
       " 46,\n",
       " 49578,\n",
       " 14878,\n",
       " 34854,\n",
       " 42368,\n",
       " 40247,\n",
       " 1567,\n",
       " 3140,\n",
       " 46662,\n",
       " 39519,\n",
       " 33909,\n",
       " 48305,\n",
       " 40045,\n",
       " 19616,\n",
       " 16072,\n",
       " 8235,\n",
       " 18232,\n",
       " 22117,\n",
       " 8449,\n",
       " 12114,\n",
       " 8646,\n",
       " 22466,\n",
       " 17475,\n",
       " 7767,\n",
       " 8578,\n",
       " 17903,\n",
       " 1781,\n",
       " 35260,\n",
       " 22994,\n",
       " 4293,\n",
       " 46888,\n",
       " 617,\n",
       " 38595,\n",
       " 35958,\n",
       " 5282,\n",
       " 6522,\n",
       " 9576,\n",
       " 27155,\n",
       " 24788,\n",
       " 14717,\n",
       " 15097,\n",
       " 31329,\n",
       " 36842,\n",
       " 27254,\n",
       " 729,\n",
       " 23973,\n",
       " 6900,\n",
       " 43873,\n",
       " 48798,\n",
       " 48998,\n",
       " 37371,\n",
       " 2653,\n",
       " 40991,\n",
       " 19169,\n",
       " 46057,\n",
       " 19828,\n",
       " 22069,\n",
       " 21689,\n",
       " 44510,\n",
       " 15582,\n",
       " 44088,\n",
       " 10461,\n",
       " 40724,\n",
       " 40535,\n",
       " 22379,\n",
       " 11666,\n",
       " 9086,\n",
       " 41218,\n",
       " 21060,\n",
       " 32353,\n",
       " 4847,\n",
       " 40871,\n",
       " 43286,\n",
       " 4889,\n",
       " 22155,\n",
       " 32793,\n",
       " 4627,\n",
       " 20915,\n",
       " 44803,\n",
       " 3820,\n",
       " 26724,\n",
       " 45010,\n",
       " 48059,\n",
       " 10367,\n",
       " 47500,\n",
       " 31742,\n",
       " 13888,\n",
       " 43580,\n",
       " 35972,\n",
       " 46036,\n",
       " 3591,\n",
       " 44282,\n",
       " 7537,\n",
       " 23868,\n",
       " 48202,\n",
       " 20678,\n",
       " 13980,\n",
       " 26929,\n",
       " 30968,\n",
       " 6863,\n",
       " 45154,\n",
       " 49413,\n",
       " 23093,\n",
       " 20044,\n",
       " 6975,\n",
       " 30553,\n",
       " 11292,\n",
       " 10955,\n",
       " 33186,\n",
       " 5826,\n",
       " 34098,\n",
       " 29856,\n",
       " 3861,\n",
       " 24073,\n",
       " 48634,\n",
       " 30733,\n",
       " 39762,\n",
       " 26371,\n",
       " 23329,\n",
       " 37956,\n",
       " 20472,\n",
       " 18614,\n",
       " 43755,\n",
       " 43592,\n",
       " 45718,\n",
       " 2787,\n",
       " 49800,\n",
       " 4733,\n",
       " 32102,\n",
       " 6520,\n",
       " 46161,\n",
       " 39559,\n",
       " 35884,\n",
       " 49744,\n",
       " 28558,\n",
       " 22721,\n",
       " 44806,\n",
       " 22225,\n",
       " 36779,\n",
       " 21370,\n",
       " 39238,\n",
       " 23624,\n",
       " 24899,\n",
       " 19654,\n",
       " 48385,\n",
       " 6189,\n",
       " 35226,\n",
       " 8541,\n",
       " 8789,\n",
       " 26426,\n",
       " 16627,\n",
       " 14498,\n",
       " 49075,\n",
       " 16897,\n",
       " 45234,\n",
       " 27339,\n",
       " 8962,\n",
       " 48903,\n",
       " 40697,\n",
       " 13750,\n",
       " 6015,\n",
       " 16168,\n",
       " 37264,\n",
       " 9954,\n",
       " 2934,\n",
       " 6832,\n",
       " 44606,\n",
       " 38048,\n",
       " 15340,\n",
       " 29835,\n",
       " 7906,\n",
       " 45307,\n",
       " 41763,\n",
       " 20568,\n",
       " 49047,\n",
       " 9794,\n",
       " 44324,\n",
       " 44090,\n",
       " 12325,\n",
       " 47066,\n",
       " 29920,\n",
       " 6070,\n",
       " 2226,\n",
       " 10141,\n",
       " 46760,\n",
       " 39233,\n",
       " 41998,\n",
       " 22484,\n",
       " 14465,\n",
       " 901,\n",
       " 39148,\n",
       " 38931,\n",
       " 13377,\n",
       " 33235,\n",
       " 8332,\n",
       " 44860,\n",
       " 3229,\n",
       " 2920,\n",
       " 36536,\n",
       " 7248,\n",
       " 43397,\n",
       " 30157,\n",
       " 8034,\n",
       " 41620,\n",
       " 36103,\n",
       " 48303,\n",
       " 31413,\n",
       " 34220,\n",
       " 9558,\n",
       " 36200,\n",
       " 11218,\n",
       " 38717,\n",
       " 23860,\n",
       " 11378,\n",
       " 31317,\n",
       " 31472,\n",
       " 22180,\n",
       " 21313,\n",
       " 26056,\n",
       " 48039,\n",
       " 22064,\n",
       " 14471,\n",
       " 36380,\n",
       " 18332,\n",
       " 49946,\n",
       " 39836,\n",
       " 11010,\n",
       " 14682,\n",
       " 28813,\n",
       " 20677,\n",
       " 49261,\n",
       " 11605,\n",
       " 37254,\n",
       " 7235,\n",
       " 14598,\n",
       " 34203,\n",
       " 2102,\n",
       " 31257,\n",
       " 10972,\n",
       " 43525,\n",
       " 5477,\n",
       " 15832,\n",
       " 27656,\n",
       " 28514,\n",
       " 33454,\n",
       " 20732,\n",
       " 10684,\n",
       " 37379,\n",
       " 24216,\n",
       " 12105,\n",
       " 5806,\n",
       " 37870,\n",
       " 36758,\n",
       " 2943,\n",
       " 5335,\n",
       " 21300,\n",
       " 13639,\n",
       " 13546,\n",
       " 5379,\n",
       " 41736,\n",
       " 21379,\n",
       " 35106,\n",
       " 8908,\n",
       " 39039,\n",
       " 49186,\n",
       " 11623,\n",
       " 23655,\n",
       " 15161,\n",
       " 49984,\n",
       " 3066,\n",
       " 19401,\n",
       " 37649,\n",
       " 37403,\n",
       " 2641,\n",
       " 32408,\n",
       " 30274,\n",
       " 3365,\n",
       " 16052,\n",
       " 39391,\n",
       " 48617,\n",
       " 48154,\n",
       " 48794,\n",
       " 17952,\n",
       " 49324,\n",
       " 31819,\n",
       " 32872,\n",
       " 23309,\n",
       " 3946,\n",
       " 24825,\n",
       " 8158,\n",
       " 203,\n",
       " 22337,\n",
       " 5723,\n",
       " 9305,\n",
       " 487,\n",
       " 37707,\n",
       " 8674,\n",
       " 13605,\n",
       " 27548,\n",
       " 34818,\n",
       " 31026,\n",
       " 4962,\n",
       " 9758,\n",
       " 36106,\n",
       " 40613,\n",
       " 28611,\n",
       " 12722,\n",
       " 4136,\n",
       " 22091,\n",
       " 36012,\n",
       " 1086,\n",
       " 23951,\n",
       " 19394,\n",
       " 26818,\n",
       " 11495,\n",
       " 39355,\n",
       " 24173,\n",
       " 25680,\n",
       " 27857,\n",
       " 42535,\n",
       " 28460,\n",
       " 17139,\n",
       " 29533,\n",
       " 16500,\n",
       " 26012,\n",
       " 6648,\n",
       " 18229,\n",
       " 42637,\n",
       " 16234,\n",
       " 6193,\n",
       " 44897,\n",
       " 9809,\n",
       " 49201,\n",
       " 27579,\n",
       " 1788,\n",
       " 26328,\n",
       " 28792,\n",
       " 9569,\n",
       " 28719,\n",
       " 8531,\n",
       " 32228,\n",
       " 22860,\n",
       " 27275,\n",
       " 20441,\n",
       " 18432,\n",
       " 46251,\n",
       " 41877,\n",
       " 45420,\n",
       " 28026,\n",
       " 18652,\n",
       " 24713,\n",
       " 26222,\n",
       " 8599,\n",
       " 19725,\n",
       " 13150,\n",
       " 33294,\n",
       " 23921,\n",
       " 36986,\n",
       " 13563,\n",
       " 2313,\n",
       " 19498,\n",
       " 3180,\n",
       " 12985,\n",
       " 18854,\n",
       " 7376,\n",
       " 16689,\n",
       " 3640,\n",
       " 18213,\n",
       " 1496,\n",
       " 38525,\n",
       " 45077,\n",
       " 45224,\n",
       " 9016,\n",
       " 13911,\n",
       " 28211,\n",
       " 15454,\n",
       " 20532,\n",
       " 20012,\n",
       " 620,\n",
       " 42401,\n",
       " 2532,\n",
       " 31957,\n",
       " 22719,\n",
       " 28003,\n",
       " 31323,\n",
       " 39659,\n",
       " 14292,\n",
       " 21066,\n",
       " 48973,\n",
       " 40089,\n",
       " 9834,\n",
       " 41630,\n",
       " 12231,\n",
       " 9135,\n",
       " 24133,\n",
       " 9012,\n",
       " 26475,\n",
       " 20282,\n",
       " 26292,\n",
       " 27021,\n",
       " 45013,\n",
       " 15573,\n",
       " 13721,\n",
       " 36400,\n",
       " 49366,\n",
       " 33011,\n",
       " 32960,\n",
       " 19899,\n",
       " 38527,\n",
       " 22870,\n",
       " 18298,\n",
       " 17038,\n",
       " 24006,\n",
       " 24702,\n",
       " 18672,\n",
       " 12012,\n",
       " 45027,\n",
       " 41991,\n",
       " 21597,\n",
       " 14688,\n",
       " 22106,\n",
       " 8028,\n",
       " 37510,\n",
       " 13041,\n",
       " 26746,\n",
       " 21664,\n",
       " 11299,\n",
       " 18518,\n",
       " 31878,\n",
       " 8802,\n",
       " ...]"
      ]
     },
     "execution_count": 24,
     "metadata": {},
     "output_type": "execute_result"
    }
   ],
   "source": [
    "validation_indices"
   ]
  },
  {
   "cell_type": "code",
   "execution_count": null,
   "metadata": {},
   "outputs": [],
   "source": []
  }
 ],
 "metadata": {
  "kernelspec": {
   "display_name": "Python 3",
   "language": "python",
   "name": "python3"
  },
  "language_info": {
   "codemirror_mode": {
    "name": "ipython",
    "version": 3
   },
   "file_extension": ".py",
   "mimetype": "text/x-python",
   "name": "python",
   "nbconvert_exporter": "python",
   "pygments_lexer": "ipython3",
   "version": "3.6.8"
  }
 },
 "nbformat": 4,
 "nbformat_minor": 2
}
